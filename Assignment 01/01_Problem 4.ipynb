{
 "cells": [
  {
   "cell_type": "code",
   "execution_count": 1,
   "metadata": {},
   "outputs": [],
   "source": [
    "## Problem 4\n",
    "\"\"\"\n",
    "Classify the two vectors xa and xb given in Problem 2 with the k-nearest neighbors algo-\n",
    "rithm. Use k = 3 and Euclidean distance.\n",
    "\"\"\""
   ]
  },
  {
   "cell_type": "code",
   "execution_count": 37,
   "metadata": {
    "collapsed": true
   },
   "outputs": [],
   "source": [
    "#Importing Packages\n",
    "import numpy as np\n",
    "from sklearn import datasets, model_selection\n",
    "import matplotlib.pyplot as plt\n",
    "%matplotlib inline "
   ]
  },
  {
   "cell_type": "code",
   "execution_count": 36,
   "metadata": {
    "collapsed": true
   },
   "outputs": [],
   "source": [
    "#Defining Euclidean Distance function\n",
    "def euclidean_distance(x1, x2):\n",
    "    distance = 0\n",
    "    combined_vector = zip(x1, x2)\n",
    "    for x in combined_vector:\n",
    "        distance += (x[1] - x[0]) ** 2\n",
    "    return float((distance)**(0.5)) "
   ]
  },
  {
   "cell_type": "code",
   "execution_count": 35,
   "metadata": {
    "collapsed": true
   },
   "outputs": [],
   "source": [
    "#Defining k-nearest neighbors \n",
    "import operator\n",
    "def get_neighbors_labels(X_train, y_train, x_new, k):\n",
    " \n",
    "    distances = []\n",
    "    for x in range(len(X_train)):\n",
    "        dist = euclidean_distance(x_new, X_train[x])\n",
    "        distances.append((y_train [x], dist))\n",
    "        \n",
    "    distances.sort(key=operator.itemgetter(1))\n",
    "    neighbors = []\n",
    "    \n",
    "    for y in range(k):\n",
    "        neighbors.append(distances[y][0])\n",
    "    return neighbors"
   ]
  },
  {
   "cell_type": "code",
   "execution_count": 34,
   "metadata": {
    "collapsed": true
   },
   "outputs": [],
   "source": [
    "#Defining Maximum occuring label\n",
    "from scipy import stats\n",
    "\n",
    "def get_response(neighbors_labels, num_classes=3):\n",
    "    y=stats.mode(neighbors_labels)\n",
    "                \n",
    "    return y[0][0]"
   ]
  },
  {
   "cell_type": "code",
   "execution_count": 47,
   "metadata": {},
   "outputs": [
    {
     "name": "stdout",
     "output_type": "stream",
     "text": [
      "The neighbors of x_A are:[0, 2, 1]and the predicted value of y_A is:0\n",
      "The neighbors of x_B are:[2, 0, 2]and the predicted value of y_B is:2\n"
     ]
    }
   ],
   "source": [
    "k = 3\n",
    "x_A = [4.1,-0.1,2.2]\n",
    "x_B = [6.1,0.4,1.3]\n",
    "import numpy as np\n",
    "x_data = np.array([[5.5,0.5,4.5],[7.4,1.1,3.6],[5.9,0.2,3.4],[9.9,0.1,0.8],[6.9,-0.1,0.6],[6.8,-0.3,5.1],[4.1,0.3,5.1],\n",
    "                   [1.3,-0.2,1.8],[4.5,0.4,2],[0.5,0,2.3],[5.9,-0.1,4.4],[9.3,-0.2,3.2],[1,0.1,2.8],[0.4,0.1,4.3],[2.7,-0.5,4.2],\n",
    "                ])\n",
    "\n",
    "y_data = np.array([2,0,2,0,2,2,1,1,0,1,0,0,1,1,1])\n",
    "\n",
    "neighbors_A=get_neighbors_labels(x_data, y_data, x_A, k)\n",
    "print(\"The neighbors of x_A are:\" + str(neighbors_A)+ \"and the predicted value of y_A is:\" + str(get_response(neighbors_A)))\n",
    "\n",
    "neighbors_B=get_neighbors_labels(x_data, y_data, x_B, k)\n",
    "print(\"The neighbors of x_B are:\" + str(neighbors_B)+ \"and the predicted value of y_B is:\" + str(get_response(neighbors_B)))"
   ]
  }
 ],
 "metadata": {
  "kernelspec": {
   "display_name": "Python 3",
   "language": "python",
   "name": "python3"
  },
  "language_info": {
   "codemirror_mode": {
    "name": "ipython",
    "version": 3
   },
   "file_extension": ".py",
   "mimetype": "text/x-python",
   "name": "python",
   "nbconvert_exporter": "python",
   "pygments_lexer": "ipython3",
   "version": "3.6.3"
  }
 },
 "nbformat": 4,
 "nbformat_minor": 2
}
