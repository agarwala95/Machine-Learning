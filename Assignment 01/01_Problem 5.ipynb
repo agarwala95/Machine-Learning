{
 "cells": [
  {
   "cell_type": "code",
   "execution_count": 3,
   "metadata": {},
   "outputs": [
    {
     "data": {
      "text/plain": [
       "'\\nNow, consider yi to be real-valued targets rather than classes. Perform 3-NN regression to\\nlabel the vectors from Problem 2.\\n'"
      ]
     },
     "execution_count": 3,
     "metadata": {},
     "output_type": "execute_result"
    }
   ],
   "source": [
    "## Problem 5\n",
    "\"\"\"\n",
    "Now, consider yi to be real-valued targets rather than classes. Perform 3-NN regression to\n",
    "label the vectors from Problem 2.\n",
    "\"\"\""
   ]
  },
  {
   "cell_type": "code",
   "execution_count": 4,
   "metadata": {
    "collapsed": true
   },
   "outputs": [],
   "source": [
    "#Importing Packages\n",
    "import numpy as np\n",
    "from sklearn import datasets, model_selection\n",
    "import matplotlib.pyplot as plt\n",
    "%matplotlib inline "
   ]
  },
  {
   "cell_type": "code",
   "execution_count": 5,
   "metadata": {
    "collapsed": true
   },
   "outputs": [],
   "source": [
    "#Defining Euclidean Distance function\n",
    "def euclidean_distance(x1, x2):\n",
    "    distance = 0\n",
    "    combined_vector = zip(x1, x2)\n",
    "    for x in combined_vector:\n",
    "        distance += (x[1] - x[0]) ** 2\n",
    "    return float((distance)**(0.5)) "
   ]
  },
  {
   "cell_type": "code",
   "execution_count": 9,
   "metadata": {
    "collapsed": true
   },
   "outputs": [],
   "source": [
    "#Defining k-nearest neighbors \n",
    "import operator\n",
    "def get_neighbors_labels(X_train, y_train, x_new, k):\n",
    " \n",
    "    distances = []\n",
    "    for x in range(len(X_train)):\n",
    "        dist = euclidean_distance(x_new, X_train[x])\n",
    "        distances.append((y_train [x], dist))\n",
    "        \n",
    "    distances.sort(key=operator.itemgetter(1))\n",
    "    neighbors = []\n",
    "    \n",
    "    for y in range(k):\n",
    "        neighbors.append((distances[y][0],distances[y][1]))\n",
    "    return neighbors"
   ]
  },
  {
   "cell_type": "code",
   "execution_count": 15,
   "metadata": {
    "collapsed": true
   },
   "outputs": [],
   "source": [
    "#Defining Weighted mean to predict value\n",
    "def get_response(neighbors_labels, num_classes=3):\n",
    "    \n",
    "    labels=[]\n",
    "    dist=[]\n",
    "    Z=0\n",
    "    Mean=0\n",
    "    for i in range(0,len(neighbors_labels)):\n",
    "        labels.append(neighbors_labels[i][0])\n",
    "        dist.append(neighbors_labels[i][1])\n",
    "        Z+=float(1/(dist[i]))\n",
    "        Mean+=float((1/dist[i])*labels[i])\n",
    "    \n",
    "    y=float((1/Z)*Mean)      \n",
    "    return round(y,5)"
   ]
  },
  {
   "cell_type": "code",
   "execution_count": 16,
   "metadata": {},
   "outputs": [
    {
     "name": "stdout",
     "output_type": "stream",
     "text": [
      "The neighbors of x_A and their distances are:[(0, 0.6708203932499371), (2, 2.1840329667841556), (1, 2.473863375370596)]and the predicted value of y_A is:0.56102\n",
      "The neighbors of x_B and their distances are:[(2, 1.1747340124470735), (0, 1.7464249196572976), (2, 2.1189620100417086)]and the predicted value of y_B is:1.39592\n"
     ]
    }
   ],
   "source": [
    "k = 3\n",
    "x_A = [4.1,-0.1,2.2]\n",
    "x_B = [6.1,0.4,1.3]\n",
    "import numpy as np\n",
    "import pandas as pd\n",
    "x_data = np.array([[5.5,0.5,4.5],[7.4,1.1,3.6],[5.9,0.2,3.4],[9.9,0.1,0.8],[6.9,-0.1,0.6],[6.8,-0.3,5.1],[4.1,0.3,5.1],\n",
    "                   [1.3,-0.2,1.8],[4.5,0.4,2],[0.5,0,2.3],[5.9,-0.1,4.4],[9.3,-0.2,3.2],[1,0.1,2.8],[0.4,0.1,4.3],[2.7,-0.5,4.2],\n",
    "                ])\n",
    "\n",
    "y_data = np.array([2,0,2,0,2,2,1,1,0,1,0,0,1,1,1])\n",
    "\n",
    "neighbors_A=get_neighbors_labels(x_data, y_data, x_A, k)\n",
    "print(\"The neighbors of x_A and their distances are:\" + str(neighbors_A)+ \"and the predicted value of y_A is:\" + \n",
    "      str(get_response(neighbors_A)))\n",
    "\n",
    "neighbors_B=get_neighbors_labels(x_data, y_data, x_B, k)\n",
    "print(\"The neighbors of x_B and their distances are:\" + str(neighbors_B)+ \"and the predicted value of y_B is:\" + \n",
    "      str(get_response(neighbors_B)))"
   ]
  }
 ],
 "metadata": {
  "kernelspec": {
   "display_name": "Python 3",
   "language": "python",
   "name": "python3"
  },
  "language_info": {
   "codemirror_mode": {
    "name": "ipython",
    "version": 3
   },
   "file_extension": ".py",
   "mimetype": "text/x-python",
   "name": "python",
   "nbconvert_exporter": "python",
   "pygments_lexer": "ipython3",
   "version": "3.6.3"
  }
 },
 "nbformat": 4,
 "nbformat_minor": 2
}
